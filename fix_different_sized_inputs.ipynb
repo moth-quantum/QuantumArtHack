{
 "cells": [
  {
   "cell_type": "markdown",
   "metadata": {},
   "source": [
    "# Fixing “different‑sized inputs” in parallel QPIXL\n",
    "\n",
    "**Problem:**  \n",
    "The original pipeline fails or corrupts images when two inputs have different dimensions—because the Walsh–Hadamard transform (`sfwht`) expects vectors of equal, power‑of‑2 length.\n",
    "\n",
    "**Solution:**  \n",
    "I added a helper (`pad2d_to_pow2`) to pad each image to the next square power‑of‑2, flattened in column‑major order, ran the quantum encode/decode, then reshaped back into the padded square and cropped to the original sizes. This eliminates index errors and preserves image quality."
   ]
  },
  {
   "cell_type": "markdown",
   "metadata": {},
   "source": [
    "## 1) Imports & helper"
   ]
  },
  {
   "cell_type": "code",
   "execution_count": 4,
   "metadata": {},
   "outputs": [],
   "source": [
    "import math\n",
    "import numpy as np\n",
    "import matplotlib.pyplot as plt\n",
    "from PIL import Image\n",
    "from qiskit_aer import StatevectorSimulator\n",
    "from QPIXL.qiskit.qpixl_parallel import cFRQI\n",
    "import QPIXL.helper as hlp"
   ]
  },
  {
   "cell_type": "code",
   "execution_count": 5,
   "metadata": {},
   "outputs": [],
   "source": [
    "# Helper: pad 2D to square power‑of‑2\n",
    "def pad2d_to_pow2(img, fill=0):\n",
    "    h, w = img.shape\n",
    "    size = 2 ** math.ceil(math.log2(max(h, w)))\n",
    "    pad_h = size - h\n",
    "    pad_w = size - w\n",
    "    # I pad both axes up to the same square size\n",
    "    padded = np.pad(img, ((0, pad_h), (0, pad_w)), constant_values=fill)\n",
    "    return padded, size"
   ]
  },
  {
   "cell_type": "markdown",
   "metadata": {},
   "source": [
    "## 2) Load & resize"
   ]
  },
  {
   "cell_type": "code",
   "execution_count": 6,
   "metadata": {},
   "outputs": [],
   "source": [
    "# Load & resize to grayscale arrays\n",
    "img1 = np.array(\n",
    "    Image.open(\"figures/creation_world.png\")\n",
    "    .convert(\"L\")\n",
    "    .resize((33, 40), Image.Resampling.LANCZOS)\n",
    ")\n",
    "img2 = np.array(\n",
    "    Image.open(\"figures/cat.webp\")\n",
    "    .convert(\"L\")\n",
    "    .resize((41, 34), Image.Resampling.LANCZOS)\n",
    ")"
   ]
  },
  {
   "cell_type": "markdown",
   "metadata": {},
   "source": [
    "## 3) Pad, flatten, encode & decode"
   ]
  },
  {
   "cell_type": "code",
   "execution_count": 7,
   "metadata": {},
   "outputs": [],
   "source": [
    "# Pad both (transpose first to match pipeline)\n",
    "padded1, size = pad2d_to_pow2(img1.T)\n",
    "padded2, _ = pad2d_to_pow2(img2.T)\n",
    "\n",
    "# remember original shapes for cropping\n",
    "shapes = [img1.shape, img2.shape]\n",
    "\n",
    "# Flatten in column‑major (Fortran) order\n",
    "np_frame = [padded1.flatten(order=\"F\"), padded2.flatten(order=\"F\")]\n",
    "\n",
    "# Encode & run the circuit\n",
    "qc = cFRQI(np_frame, 0)\n",
    "backend = StatevectorSimulator(method=\"statevector\")\n",
    "job = backend.run(qc)\n",
    "sv = np.real(job.result().get_statevector())\n",
    "\n",
    "# Decode back to numeric frames\n",
    "decoded = hlp.decodeParallelQPIXL(sv, qc, len(np_frame))\n",
    "\n",
    "# Reshape to padded square, then crop to original\n",
    "decoded_data = []\n",
    "for datum, (h, w) in zip(decoded, shapes):\n",
    "    # I reshape in Fortran order to the full square...\n",
    "    full = np.array(datum).reshape((size, size), order=\"F\")\n",
    "    full = full.T  # transpose back\n",
    "    cropped = full[:h, :w]  # then crop to (h, w)\n",
    "    decoded_data.append(cropped)"
   ]
  },
  {
   "cell_type": "markdown",
   "metadata": {},
   "source": [
    "## 4) Plot results"
   ]
  },
  {
   "cell_type": "code",
   "execution_count": 8,
   "metadata": {},
   "outputs": [
    {
     "data": {
      "image/png": "[encoded data removed]",
      "text/plain": [
       "<Figure size 1000x400 with 2 Axes>"
      ]
     },
     "metadata": {},
     "output_type": "display_data"
    }
   ],
   "source": [
    "# Plot final results\n",
    "fig, axs = plt.subplots(1, 2, figsize=(10, 4))\n",
    "for i, ax in enumerate(axs):\n",
    "    ax.imshow(decoded_data[i], cmap=\"viridis\")\n",
    "    ax.axis(\"off\")\n",
    "plt.suptitle(\"Decoded data\")\n",
    "plt.tight_layout()\n",
    "plt.show()"
   ]
  }
 ],
 "metadata": {
  "kernelspec": {
   "display_name": "Python 3 (ipykernel)",
   "language": "python",
   "name": "python3"
  },
  "language_info": {
   "codemirror_mode": {
    "name": "ipython",
    "version": 3
   },
   "file_extension": ".py",
   "mimetype": "text/x-python",
   "name": "python",
   "nbconvert_exporter": "python",
   "pygments_lexer": "ipython3",
   "version": "3.11.8"
  }
 },
 "nbformat": 4,
 "nbformat_minor": 4
}
