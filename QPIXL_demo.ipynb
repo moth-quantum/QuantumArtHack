{
 "cells": [
  {
   "cell_type": "code",
   "execution_count": 1,
   "metadata": {
    "tags": []
   },
   "outputs": [],
   "source": [
    "import QPIXL.helper as hlp\n",
    "from QPIXL.qiskit.qpixl import cFRQI\n",
    "from QPIXL.qiskit.qpixl_angs import cFRQIangs, decodeAngQPIXL\n",
    "import qiskit\n",
    "from qiskit import QuantumCircuit\n",
    "from qiskit_aer import StatevectorSimulator\n",
    "import matplotlib.pyplot as plt\n",
    "from matplotlib import animation\n",
    "import numpy as np\n",
    "from PIL import Image\n",
    "from ipywidgets import interact\n",
    "import os\n",
    "from itertools import chain\n",
    "\n",
    "import warnings\n",
    "import soundfile\n",
    "\n",
    "warnings.filterwarnings(\"ignore\")\n",
    "\n",
    "backend = StatevectorSimulator(method=\"statevector\")"
   ]
  },
  {
   "attachments": {},
   "cell_type": "markdown",
   "metadata": {},
   "source": [
    "# Real-valued Data Processing With QPIXL for art, music and beyond\n",
    "This notebook goes through an embedding known as the FRQI-QPIXL framework, which we have implemented in an easy to deploy set of modules for use in qiskit and pennylane  (Amankwah et al., May 2022, https://www.nature.com/articles/s41598-022-11024-y ). Please look at the ```readme.md``` file for usage and setup of the environment. \n",
    "\n",
    "\n",
    "- Contents\n",
    "    - Introduction\n",
    "    - QPIXL\n",
    "    -  Usage examples\n",
    "        - Images\n",
    "        - Audio\n",
    "\n",
    "# Introduction\n",
    "\n",
    "## Issues with near term machines\n",
    "The depth (and connectivity) of a circuit completely determines how well it can be implemented on existing hardware. The killing blow to most\n",
    "algorithms is that they require fully connected and very deep circuits (which get decomposed to even deeper circuits with limited gatesets). \n",
    "Due to non-zero error rates, the probability that at least an error has occurred throughout the run of a circuit eventually becomes 1. This can\n",
    "be mitigated, but at some point it can't be done. This is why short circuits for flexible data embeddings are so important.\n",
    "\n",
    "## Images and audio in quantum computing\n",
    "Although quantum computers have a more obvious to see advantage in quantum tasks, nonetheless it is thought that we can see some advantages in tasks involving\n",
    "classical data loaded onto a quantum computer. Although pictures may not be 'the' data-type that will see an advantage from quantum computing, it is nonetheless \n",
    "the case that a lot of data can be input in an image-like format, and studying pictoral algorithms is definitely way easier on the eyes than pure data-driven tasks! \n",
    "Also, with a quantum state representing an image, you can see the results of any quantum transformation of the picture as a new picture! Of course, it needs to be \n",
    "seen from many 'angles', but maybe it can help with visualizing what these are. Audio equivalently can be mapped in this way. \n",
    "\n",
    "# QPIXL\n",
    "\n",
    "Why do we need another type of embedding in the mix? QPIXL is a framework to decompose popular image encodings such as FRQI, NEQR and their improved counterparts. \n",
    "It works by optimally decomposing the gates, and removing any 0 angles that are found. Thanks to the optimal decomposition\n",
    "the quantum gates can then be further reduced by removing pairs of CNOTS that used to be interwoven by rotation gates. \n",
    "They cancel out and become the identity. The code can be seen in the cell below:"
   ]
  },
  {
   "cell_type": "code",
   "execution_count": 2,
   "metadata": {
    "tags": []
   },
   "outputs": [
    {
     "data": {
      "text/html": [
       "<pre style=\"word-wrap: normal;white-space: pre;background: #fff0;line-height: 1.1;font-family: &quot;Courier New&quot;,Courier,monospace\">                     ┌───┐                                                                       \n",
       "storage qubits_0: ───┤ H ├─────────────────────────────────────────────■──────────────────────■──\n",
       "                     ├───┤                                             │                      │  \n",
       "storage qubits_1: ───┤ H ├───────────────────────■─────────────────────┼────■─────────────────┼──\n",
       "                     ├───┤                       │                     │    │                 │  \n",
       "storage qubits_2: ───┤ H ├─────■─────────────────┼────■────────────────┼────┼─────────────────┼──\n",
       "                  ┌──┴───┴──┐┌─┴─┐┌───────────┐┌─┴─┐┌─┴─┐┌──────────┐┌─┴─┐┌─┴─┐┌───────────┐┌─┴─┐\n",
       "  encoding qubit: ┤ Ry(π/2) ├┤ X ├┤ Ry(-π/14) ├┤ X ├┤ X ├┤ Ry(-π/7) ├┤ X ├┤ X ├┤ Ry(-2π/7) ├┤ X ├\n",
       "                  └─────────┘└───┘└───────────┘└───┘└───┘└──────────┘└───┘└───┘└───────────┘└───┘</pre>"
      ],
      "text/plain": [
       "                     ┌───┐                                                                       \n",
       "storage qubits_0: ───┤ H ├─────────────────────────────────────────────■──────────────────────■──\n",
       "                     ├───┤                                             │                      │  \n",
       "storage qubits_1: ───┤ H ├───────────────────────■─────────────────────┼────■─────────────────┼──\n",
       "                     ├───┤                       │                     │    │                 │  \n",
       "storage qubits_2: ───┤ H ├─────■─────────────────┼────■────────────────┼────┼─────────────────┼──\n",
       "                  ┌──┴───┴──┐┌─┴─┐┌───────────┐┌─┴─┐┌─┴─┐┌──────────┐┌─┴─┐┌─┴─┐┌───────────┐┌─┴─┐\n",
       "  encoding qubit: ┤ Ry(π/2) ├┤ X ├┤ Ry(-π/14) ├┤ X ├┤ X ├┤ Ry(-π/7) ├┤ X ├┤ X ├┤ Ry(-2π/7) ├┤ X ├\n",
       "                  └─────────┘└───┘└───────────┘└───┘└───┘└──────────┘└───┘└───┘└───────────┘└───┘"
      ]
     },
     "execution_count": 2,
     "metadata": {},
     "output_type": "execute_result"
    }
   ],
   "source": [
    "def cFRQI_demo(a, compression):\n",
    "    \"\"\"Takes a standard image in a numpy array (so that the matrix looks like\n",
    "    the image you want if you picture the pixels) and returns the QPIXL\n",
    "    compressed FRQI circuit. The compression ratio determines\n",
    "    how many gates will be filtered and then cancelled out. Made into code from this paper:\n",
    "    https://www.nature.com/articles/s41598-022-11024-y\n",
    "\n",
    "    Args:\n",
    "        a (np.array): numpy array of image, must be flattened and padded with zeros up to a power of two\n",
    "        compression (float): number between 0 an 100, where 0 is no compression and 100 is no image\n",
    "\n",
    "    Returns:\n",
    "        QuantumCircuit: qiskit circuit that prepared the encoded image\n",
    "    \"\"\"\n",
    "    a = hlp.convertToAngles(a)  # convert grayscale to angles\n",
    "    a = hlp.preprocess_image(a)  # need to flatten the transpose for easier decoding,\n",
    "    # only really necessary if you want to recover an image.\n",
    "    # for classification tasks etc. transpose isn't required.\n",
    "    n = len(a)\n",
    "    k = hlp.ilog2(n)\n",
    "    a = 2 * a\n",
    "    a = hlp.sfwht(a)\n",
    "    a = hlp.grayPermutation(a)\n",
    "    a_sort_ind = np.argsort(np.abs(a))\n",
    "    # set smallest absolute values of a to zero according to compression param\n",
    "    cutoff = int((compression / 100.0) * n)\n",
    "    for it in a_sort_ind[:cutoff]:\n",
    "        a[it] = 0\n",
    "\n",
    "    # Construct FRQI circuit\n",
    "    dataqbits = qiskit.QuantumRegister(k, \"storage qubits\")\n",
    "    encodingqubit = qiskit.QuantumRegister(1, \"encoding qubit\")\n",
    "    circuit = QuantumCircuit(dataqbits, encodingqubit)\n",
    "\n",
    "    # Data qubits\n",
    "    circuit.h(dataqbits)\n",
    "\n",
    "    ctrl, pc, i = 0, 0, 0\n",
    "    while i < (2**k):\n",
    "        pc = int(0)  # Reset the parity check\n",
    "        if a[i] != 0:\n",
    "            circuit.ry(a[i], encodingqubit)  # normally would just be an ry gate\n",
    "        # Loop over sequence of consecutive zero angles to cancel out CNOTS (or rather, to not include them)\n",
    "        if i == ((2**k) - 1):\n",
    "            ctrl = 0\n",
    "        else:\n",
    "            ctrl = hlp.grayCode(i) ^ hlp.grayCode(i + 1)\n",
    "            ctrl = k - hlp.countr_zero(ctrl, n_bits=k + 1) - 1\n",
    "        pc ^= 2**ctrl  # Update parity check\n",
    "        i += 1\n",
    "        while i < (2**k) and a[i] == 0:\n",
    "            # Compute control qubit\n",
    "            if i == ((2**k) - 1):\n",
    "                ctrl = 0\n",
    "            else:\n",
    "                ctrl = hlp.grayCode(i) ^ hlp.grayCode(i + 1)\n",
    "                ctrl = k - hlp.countr_zero(ctrl, n_bits=k + 1) - 1\n",
    "            pc ^= 2**ctrl  # Update parity check\n",
    "            i += 1\n",
    "        for j in range(k):\n",
    "            if (pc >> j) & 1:\n",
    "                circuit.cx(dataqbits[j], encodingqubit[0])\n",
    "    circuit.reverse_bits()\n",
    "    return circuit\n",
    "\n",
    "\n",
    "circ = cFRQI_demo(np.array([0, 1, 2, 3, 4, 5, 6, 7]), 0)\n",
    "circ.draw(fold=150, vertical_compression=\"high\")"
   ]
  },
  {
   "cell_type": "markdown",
   "metadata": {},
   "source": [
    "This can be used to encode and see images! But to do this, you need to use the function that encodes the image into a circuit.\n",
    "The circuit looks deep, but it is only (number_of_samples) deep, the encoding this is based on is (number_of_samples)^2, so a significant polynomial improvement on encoding efficiency.  \n",
    "\n",
    "# Standard encoding with potential compression demo\n",
    "\n",
    "Still, it is very deep, so what the authors found out is that you can cut the angles off under some threshold and still get some quality, which allows you to remove pairs of cnots and the rotation gates - and greatly reduce the circuit depth! \n",
    "An example of how this looks is below. "
   ]
  },
  {
   "cell_type": "code",
   "execution_count": 4,
   "metadata": {
    "jupyter": {
     "source_hidden": true
    },
    "tags": []
   },
   "outputs": [
    {
     "data": {
      "image/png": "[encoded data removed]",
      "text/plain": [
       "<Figure size 900x400 with 4 Axes>"
      ]
     },
     "metadata": {},
     "output_type": "display_data"
    }
   ],
   "source": [
    "img = hlp.examples().space\n",
    "shape = img.shape  # save this for the reconstruction!\n",
    "\n",
    "comp_images = []\n",
    "labels = []\n",
    "for i in [0, 50, 70, 90]:\n",
    "    comp_str = \"Compression: \" + str(i) + \"% \\n\"\n",
    "    qc = cFRQI(img, i)\n",
    "    job = backend.run(qc)\n",
    "    depth_str = \" Circuit depth: \" + str(qc.depth())\n",
    "    #### Just for show\n",
    "    sv = np.real(job.result().get_statevector())\n",
    "    imgt = decodeAngQPIXL(sv, qc, 1)  # 1 because we are not using parallel QPIXL\n",
    "    comp_images.append(hlp.reconstruct_img(imgt, shape).T)\n",
    "    labels.append(comp_str + depth_str)\n",
    "\n",
    "fig = plt.figure(figsize=(9, 4))\n",
    "columns = 4\n",
    "rows = 1\n",
    "for i in range(0, columns * rows):\n",
    "    img = comp_images[i]\n",
    "    fig.add_subplot(rows, columns, i + 1)\n",
    "    plt.imshow(img)\n",
    "    plt.title(labels[i])\n",
    "plt.tight_layout()\n",
    "plt.show()"
   ]
  },
  {
   "cell_type": "markdown",
   "metadata": {},
   "source": [
    "# An idea of how to mix in an algorithm\n",
    "Here is a small example of how you might mix in an algorithm, note that decoding requires that you trace out the algorithmic qubits (or not, if you want that effect)"
   ]
  },
  {
   "cell_type": "code",
   "execution_count": 5,
   "metadata": {},
   "outputs": [
    {
     "data": {
      "text/html": [
       "<pre style=\"word-wrap: normal;white-space: pre;background: #fff0;line-height: 1.1;font-family: &quot;Courier New&quot;,Courier,monospace\">                    ┌───┐                                                                                             \n",
       "storage qubits_0: ──┤ H ├─────────────────────────────────────────────────────────────────■────────────────────────■──\n",
       "                    ├───┤                                                                 │                        │  \n",
       "storage qubits_1: ──┤ H ├───────────────────────────────────────■─────────────────────────┼──────■─────────────────┼──\n",
       "                    ├───┤                                       │                         │      │                 │  \n",
       "storage qubits_2: ──┤ H ├─────────────────■─────────────────────┼──────■──────────────────┼──────┼─────────────────┼──\n",
       "                    └───┘  ┌─────────┐  ┌─┴─┐  ┌───────────┐  ┌─┴─┐  ┌─┴─┐┌──────────┐  ┌─┴─┐  ┌─┴─┐┌───────────┐┌─┴─┐\n",
       "  encoding qubit: ─────────┤ Ry(π/2) ├──┤ X ├──┤ Ry(-π/14) ├──┤ X ├──┤ X ├┤ Ry(-π/7) ├──┤ X ├──┤ X ├┤ Ry(-2π/7) ├┤ X ├\n",
       "                  ┌───────┐└────┬────┘┌─┴───┴─┐└─────┬─────┘┌─┴───┴─┐└───┘└────┬─────┘┌─┴───┴─┐└───┘└─────┬─────┘└───┘\n",
       "algorithm qubits: ┤ alg_0 ├─────■─────┤ alg_1 ├──────■──────┤ alg_3 ├──────────■──────┤ alg_7 ├───────────■───────────\n",
       "                  └───────┘           └───────┘             └───────┘                 └───────┘                       </pre>"
      ],
      "text/plain": [
       "                    ┌───┐                                                                                             \n",
       "storage qubits_0: ──┤ H ├─────────────────────────────────────────────────────────────────■────────────────────────■──\n",
       "                    ├───┤                                                                 │                        │  \n",
       "storage qubits_1: ──┤ H ├───────────────────────────────────────■─────────────────────────┼──────■─────────────────┼──\n",
       "                    ├───┤                                       │                         │      │                 │  \n",
       "storage qubits_2: ──┤ H ├─────────────────■─────────────────────┼──────■──────────────────┼──────┼─────────────────┼──\n",
       "                    └───┘  ┌─────────┐  ┌─┴─┐  ┌───────────┐  ┌─┴─┐  ┌─┴─┐┌──────────┐  ┌─┴─┐  ┌─┴─┐┌───────────┐┌─┴─┐\n",
       "  encoding qubit: ─────────┤ Ry(π/2) ├──┤ X ├──┤ Ry(-π/14) ├──┤ X ├──┤ X ├┤ Ry(-π/7) ├──┤ X ├──┤ X ├┤ Ry(-2π/7) ├┤ X ├\n",
       "                  ┌───────┐└────┬────┘┌─┴───┴─┐└─────┬─────┘┌─┴───┴─┐└───┘└────┬─────┘┌─┴───┴─┐└───┘└─────┬─────┘└───┘\n",
       "algorithm qubits: ┤ alg_0 ├─────■─────┤ alg_1 ├──────■──────┤ alg_3 ├──────────■──────┤ alg_7 ├───────────■───────────\n",
       "                  └───────┘           └───────┘             └───────┘                 └───────┘                       "
      ]
     },
     "execution_count": 5,
     "metadata": {},
     "output_type": "execute_result"
    }
   ],
   "source": [
    "def cFRQI_with_alg_demo(a, compression):\n",
    "    \"\"\"Takes a standard image in a numpy array (so that the matrix looks like\n",
    "    the image you want if you picture the pixels) and returns the QPIXL\n",
    "    compressed FRQI circuit. The compression ratio determines\n",
    "    how many gates will be filtered and then cancelled out. Made into code from this paper:\n",
    "    https://www.nature.com/articles/s41598-022-11024-y\n",
    "\n",
    "    Args:\n",
    "        a (np.array): numpy array of image, must be flattened and padded with zeros up to a power of two\n",
    "        compression (float): number between 0 an 100, where 0 is no compression and 100 is no image\n",
    "\n",
    "    Returns:\n",
    "        QuantumCircuit: qiskit circuit that prepared the encoded image\n",
    "    \"\"\"\n",
    "    a = hlp.convertToAngles(a)  # convert grayscale to angles\n",
    "    a = hlp.preprocess_image(a)  # need to flatten the transpose for easier decoding,\n",
    "    # only really necessary if you want to recover an image.\n",
    "    # for classification tasks etc. transpose isn't required.\n",
    "    n = len(a)\n",
    "    k = hlp.ilog2(n)\n",
    "    a = 2 * a\n",
    "    a = hlp.sfwht(a)\n",
    "    a = hlp.grayPermutation(a)\n",
    "    a_sort_ind = np.argsort(np.abs(a))\n",
    "    # set smallest absolute values of a to zero according to compression param\n",
    "    cutoff = int((compression / 100.0) * n)\n",
    "    for it in a_sort_ind[:cutoff]:\n",
    "        a[it] = 0\n",
    "\n",
    "    # Construct FRQI circuit\n",
    "    dataqbits = qiskit.QuantumRegister(k, \"storage qubits\")\n",
    "    encodingqubit = qiskit.QuantumRegister(1, \"encoding qubit\")\n",
    "    algorithmqubit = qiskit.QuantumRegister(1, \"algorithm qubits\")  # OPTIONAL\n",
    "    # additional qubit to do interesting stuff with\n",
    "    circuit = QuantumCircuit(dataqbits, encodingqubit, algorithmqubit)\n",
    "\n",
    "    # Data qubits\n",
    "    circuit.h(dataqbits)\n",
    "\n",
    "    ctrl, pc, i = 0, 0, 0\n",
    "    while i < (2**k):\n",
    "        pc = int(0)  # Reset the parity check\n",
    "        if a[i] != 0:\n",
    "            circuit.unitary(\n",
    "                np.array(\n",
    "                    [\n",
    "                        [np.cos(a[i]), -1j * np.sin(a[i])],\n",
    "                        [-1j * np.sin(a[i]), np.cos(a[i])],\n",
    "                    ]\n",
    "                ),\n",
    "                algorithmqubit[0],\n",
    "                label=f\"alg_{i}\",\n",
    "            )\n",
    "            circuit.cry(\n",
    "                a[i], algorithmqubit, encodingqubit\n",
    "            )  # normally would just be an ry gate\n",
    "        # Loop over sequence of consecutive zero angles to cancel out CNOTS (or rather, to not include them)\n",
    "        if i == ((2**k) - 1):\n",
    "            ctrl = 0\n",
    "        else:\n",
    "            ctrl = hlp.grayCode(i) ^ hlp.grayCode(i + 1)\n",
    "            ctrl = k - hlp.countr_zero(ctrl, n_bits=k + 1) - 1\n",
    "        pc ^= 2**ctrl  # Update parity check\n",
    "        i += 1\n",
    "        while i < (2**k) and a[i] == 0:\n",
    "            # Compute control qubit\n",
    "            if i == ((2**k) - 1):\n",
    "                ctrl = 0\n",
    "            else:\n",
    "                ctrl = hlp.grayCode(i) ^ hlp.grayCode(i + 1)\n",
    "                ctrl = k - hlp.countr_zero(ctrl, n_bits=k + 1) - 1\n",
    "            pc ^= 2**ctrl  # Update parity check\n",
    "            i += 1\n",
    "        for j in range(k):\n",
    "            if (pc >> j) & 1:\n",
    "                circuit.cx(dataqbits[j], encodingqubit[0])\n",
    "    circuit.reverse_bits()\n",
    "    return circuit\n",
    "\n",
    "\n",
    "circ = cFRQI_with_alg_demo(np.array([0, 1, 2, 3, 4, 5, 6, 7]), 0)\n",
    "circ.draw(fold=150, vertical_compression=\"high\")"
   ]
  },
  {
   "cell_type": "code",
   "execution_count": 7,
   "metadata": {},
   "outputs": [
    {
     "data": {
      "application/vnd.jupyter.widget-view+json": {
       "model_id": "82bdee920508496083fbba72bb654eb2",
       "version_major": 2,
       "version_minor": 0
      },
      "text/plain": [
       "interactive(children=(FloatSlider(value=-0.008318530717958628, description='ang1', max=0.6283185307179586, min…"
      ]
     },
     "metadata": {},
     "output_type": "display_data"
    },
    {
     "data": {
      "text/plain": [
       "<function __main__.plot_interactive_rot(ang1, ang2)>"
      ]
     },
     "execution_count": 7,
     "metadata": {},
     "output_type": "execute_result"
    }
   ],
   "source": [
    "### An example of putting pattern and pattern2 where alg_0, alg_1, etc. are\n",
    "def plot_interactive_rot(ang1, ang2):  # , qubit, gate):\n",
    "    example = hlp.examples().space\n",
    "\n",
    "    def pattern(circ):\n",
    "        circ.crx(ang1, 1, 0)\n",
    "\n",
    "    def pattern2(circ):\n",
    "        circ.crz(ang2, 1, 0)\n",
    "\n",
    "    qc = cFRQIangs(example, 0, pattern, pattern2)\n",
    "    job = backend.run(qc)\n",
    "    sv = np.real(job.result().get_statevector())\n",
    "    example = decodeAngQPIXL(sv, qc, 2)\n",
    "    example = hlp.reconstruct_img(example, hlp.examples().space.shape).T\n",
    "    plt.imshow(example)\n",
    "\n",
    "\n",
    "gates = [\"RY\", \"RX\"]\n",
    "interact(\n",
    "    plot_interactive_rot,\n",
    "    ang1=(-np.pi / 5, np.pi / 5, 0.01),\n",
    "    ang2=(-np.pi / 5, np.pi / 5, 0.01),\n",
    ")  # ,qubit=(0,7),gate=gates)"
   ]
  },
  {
   "cell_type": "markdown",
   "metadata": {},
   "source": [
    "You can see that the quality for the high resolution image is much better than that of the low resolution image, but the fine details are lost all the same. "
   ]
  },
  {
   "cell_type": "markdown",
   "metadata": {},
   "source": [
    "# Appending gates to the end of the circuit\n",
    "You can imagine that you can now do some quantum operation on this encoded state!!!\n",
    "So what do a global rotation do to our image? Below are exampled for RX and RY rotations applied to each qubit."
   ]
  },
  {
   "cell_type": "code",
   "execution_count": 8,
   "metadata": {
    "jupyter": {
     "source_hidden": true
    },
    "tags": []
   },
   "outputs": [
    {
     "data": {
      "image/png": "[encoded data removed]",
      "text/plain": [
       "<Figure size 800x800 with 20 Axes>"
      ]
     },
     "metadata": {},
     "output_type": "display_data"
    }
   ],
   "source": [
    "#### Single Picture modifications\n",
    "labels = []\n",
    "gen_mats = []\n",
    "for i in np.linspace(0, 2 * np.pi, 10):\n",
    "    example = hlp.examples().space\n",
    "    shape = example.shape\n",
    "    qc = cFRQI(example, 0)\n",
    "    qc.rx(i, range(qc.num_qubits))  ### apply RX to everything\n",
    "    job = backend.run(qc)\n",
    "    sv = np.real(job.result().get_statevector())\n",
    "    example = hlp.decodeQPIXL(sv)\n",
    "    example = hlp.reconstruct_img(example, shape).T\n",
    "    labels.append(\"RX \" + str(i)[0:4])\n",
    "    gen_mats.append(example)\n",
    "\n",
    "for i in np.linspace(0, 2 * np.pi, 10):\n",
    "    example = hlp.examples().space\n",
    "    qc = cFRQI(example, 0)\n",
    "    qc.ry(i, range(qc.num_qubits))  ### apply RY to everything\n",
    "    job = backend.run(qc)\n",
    "    sv = np.real(job.result().get_statevector())\n",
    "    example = hlp.decodeQPIXL(sv)\n",
    "    example = hlp.reconstruct_img(example, shape).T\n",
    "    labels.append(\"RY \" + str(i)[0:4])\n",
    "    gen_mats.append(example)\n",
    "\n",
    "fig = plt.figure(figsize=(8, 8))\n",
    "columns = 5\n",
    "rows = 4\n",
    "for i in range(0, columns * rows):\n",
    "    img = gen_mats[i]\n",
    "    fig.add_subplot(rows, columns, i + 1)\n",
    "    plt.imshow(img)\n",
    "    plt.title(labels[i])\n",
    "plt.tight_layout()\n",
    "plt.show()"
   ]
  },
  {
   "cell_type": "markdown",
   "metadata": {},
   "source": [
    "Or you can imagine what happens applying it only to one qubit! Remeber that qubit 0 is the one that has all the CNOT targets and rotations."
   ]
  },
  {
   "cell_type": "code",
   "execution_count": 9,
   "metadata": {
    "jupyter": {
     "source_hidden": true
    },
    "tags": []
   },
   "outputs": [
    {
     "data": {
      "application/vnd.jupyter.widget-view+json": {
       "model_id": "72445ee0bf414930a11139f9f437f26d",
       "version_major": 2,
       "version_minor": 0
      },
      "text/plain": [
       "interactive(children=(FloatSlider(value=1.4000000000000001, description='ang', max=3.141592653589793, step=0.2…"
      ]
     },
     "metadata": {},
     "output_type": "display_data"
    },
    {
     "data": {
      "text/plain": [
       "<function __main__.plot_interactive_rot(ang, qubit, gate)>"
      ]
     },
     "execution_count": 9,
     "metadata": {},
     "output_type": "execute_result"
    }
   ],
   "source": [
    "def plot_interactive_rot(ang, qubit, gate):\n",
    "    example = hlp.examples().space\n",
    "    qc = cFRQI(example, 0)\n",
    "    if gate == \"RY\":\n",
    "        qc.ry(ang, qubit)\n",
    "    if gate == \"RX\":\n",
    "        qc.rx(ang, qubit)  ### apply RX to everything\n",
    "    job = backend.run(qc)\n",
    "    sv = np.real(job.result().get_statevector())\n",
    "    example = hlp.decodeQPIXL(sv)\n",
    "    example = hlp.reconstruct_img(example, hlp.examples().space.shape).T\n",
    "    plt.imshow(example)\n",
    "\n",
    "\n",
    "gates = [\"RY\", \"RX\"]\n",
    "interact(plot_interactive_rot, ang=(0, np.pi, 0.2), qubit=(0, 7), gate=gates)"
   ]
  },
  {
   "cell_type": "code",
   "execution_count": 10,
   "metadata": {
    "tags": []
   },
   "outputs": [
    {
     "data": {
      "application/vnd.jupyter.widget-view+json": {
       "model_id": "433ed5a3836c4a9ca0bf9188c47fcd31",
       "version_major": 2,
       "version_minor": 0
      },
      "text/plain": [
       "interactive(children=(IntSlider(value=3, description='control', max=7), IntSlider(value=3, description='target…"
      ]
     },
     "metadata": {},
     "output_type": "display_data"
    },
    {
     "data": {
      "text/plain": [
       "<function __main__.plot_interactive_cnot(control, target)>"
      ]
     },
     "execution_count": 10,
     "metadata": {},
     "output_type": "execute_result"
    }
   ],
   "source": [
    "def plot_interactive_cnot(control, target):\n",
    "    example = hlp.examples().space\n",
    "    qc = cFRQI(example, 0)\n",
    "    if control != target:\n",
    "        qc.cx(control, target)  ### apply RX to everything\n",
    "    job = backend.run(qc)\n",
    "    sv = np.real(job.result().get_statevector())\n",
    "    example = hlp.decodeQPIXL(sv)\n",
    "    example = hlp.reconstruct_img(example, hlp.examples().space.shape).T\n",
    "    plt.imshow(example)\n",
    "\n",
    "\n",
    "interact(plot_interactive_cnot, control=(0, 7), target=(0, 7))"
   ]
  },
  {
   "cell_type": "code",
   "execution_count": 11,
   "metadata": {
    "tags": []
   },
   "outputs": [
    {
     "data": {
      "application/vnd.jupyter.widget-view+json": {
       "model_id": "252d5d21b59c4187944d2cfd38cb2b44",
       "version_major": 2,
       "version_minor": 0
      },
      "text/plain": [
       "interactive(children=(FloatSlider(value=3.0, description='ang', max=6.283185307179586, step=0.2), IntSlider(va…"
      ]
     },
     "metadata": {},
     "output_type": "display_data"
    },
    {
     "data": {
      "text/plain": [
       "<function __main__.plot_interactive_rot(ang, qubit, gate)>"
      ]
     },
     "execution_count": 11,
     "metadata": {},
     "output_type": "execute_result"
    }
   ],
   "source": [
    "### Example of different gates' effects\n",
    "def plot_interactive_rot(ang, qubit, gate):\n",
    "    img1 = hlp.examples().invader\n",
    "    shape1 = img1.shape  # (64,64)\n",
    "    img2 = hlp.examples().space\n",
    "    img1 = hlp.convertToAngles(hlp.pad_0(img1))\n",
    "    img2 = hlp.convertToAngles(hlp.pad_0(img2))\n",
    "    img2, img1 = img1, img2\n",
    "    qc1 = cFRQI(img1, 0)\n",
    "    qc2 = cFRQI(img2, 0)\n",
    "    big_qc = QuantumCircuit(qc1.width() + qc2.width())\n",
    "    big_qc = big_qc.compose(qc1, qubits=list(range(qc1.width())))\n",
    "    big_qc = big_qc.compose(\n",
    "        qc2, qubits=list(range(qc1.width(), qc1.width() + qc2.width()))\n",
    "    )\n",
    "    ### INSERT DESIRED GATES HERE\n",
    "    # big_qc.x(range(qc1.width(),qc1.width()+qc2.width()))\n",
    "    for i in range(qubit, qc2.width()):\n",
    "        if gate == \"CRX\":\n",
    "            big_qc.crx(ang, i, i + qc1.width())\n",
    "        if gate == \"CRY\":\n",
    "            big_qc.cry(ang, i, i + qc1.width())\n",
    "        if gate == \"SWAP\":\n",
    "            big_qc.swap(i, i + qc1.width())\n",
    "        # Example of CNOT between two images\n",
    "    #########################\n",
    "    job = backend.run(big_qc)\n",
    "    sv = np.real(job.result().get_statevector())\n",
    "    img = hlp.decodeQPIXL(\n",
    "        sv, state_to_prob=np.real\n",
    "    )  # Image 1 is the one that is recovered\n",
    "    img = hlp.reconstruct_img(img, shape1).T\n",
    "    plt.imshow(img)\n",
    "\n",
    "\n",
    "gates = [\"CRX\", \"CRY\", \"SWAP\"]\n",
    "interact(plot_interactive_rot, ang=(0, 2 * np.pi, 0.2), qubit=(0, 8), gate=gates)"
   ]
  },
  {
   "cell_type": "markdown",
   "metadata": {},
   "source": [
    "# Quantum entanglement of two images\n",
    "Maybe you can explore the entanglement of two states if you only measure one of the two sates? We show an example of an image mixed with its own transpose by taking CNOTS betweent the two images, but perhaps there are other interesting approaches to take? "
   ]
  },
  {
   "cell_type": "code",
   "execution_count": 12,
   "metadata": {
    "jupyter": {
     "source_hidden": true
    },
    "tags": []
   },
   "outputs": [
    {
     "data": {
      "text/plain": [
       "<matplotlib.image.AxesImage at 0x13ab083e0>"
      ]
     },
     "execution_count": 12,
     "metadata": {},
     "output_type": "execute_result"
    },
    {
     "data": {
      "image/png": "[encoded data removed]",
      "text/plain": [
       "<Figure size 640x480 with 1 Axes>"
      ]
     },
     "metadata": {},
     "output_type": "display_data"
    }
   ],
   "source": [
    "img1 = Image.open(\"figures/creation_world.png\")\n",
    "shape1 = (32, 32)\n",
    "img1 = img1.resize(shape1, Image.Resampling.LANCZOS)\n",
    "# img1 = examples().invader\n",
    "# shape1 = img1.shape#(64,64)\n",
    "img2 = hlp.examples().space\n",
    "shape2 = img2.shape\n",
    "\n",
    "\n",
    "img1 = hlp.convertToAngles(hlp.pad_0(img1))\n",
    "img2 = hlp.convertToAngles(hlp.pad_0(img2))\n",
    "# img2,img1=img1,img2\n",
    "qc1 = cFRQI(img1, 80)\n",
    "qc2 = cFRQI(img2, 50)\n",
    "big_qc = QuantumCircuit(qc1.width() + qc2.width())\n",
    "big_qc = big_qc.compose(qc1, qubits=list(range(qc1.width())))\n",
    "big_qc = big_qc.compose(qc2, qubits=list(range(qc1.width(), qc1.width() + qc2.width())))\n",
    "### INSERT DESIRED GATES HERE\n",
    "for i in [0, 2, 4, 6]:\n",
    "    big_qc.cx(i, i + qc1.width())\n",
    "    # Example of CNOT between two image states, as an \"entangling operation\"\n",
    "#########################\n",
    "job = backend.run(big_qc)\n",
    "sv = np.abs(job.result().get_statevector())\n",
    "img = hlp.decodeQPIXL(sv, state_to_prob=np.real)  # Image 1 is the one that is recovered\n",
    "img = hlp.reconstruct_img(img, shape1)\n",
    "plt.imshow(img)"
   ]
  },
  {
   "cell_type": "markdown",
   "metadata": {},
   "source": [
    "## Animations\n",
    "You can even use it to make animations!"
   ]
  },
  {
   "cell_type": "code",
   "execution_count": 14,
   "metadata": {
    "tags": []
   },
   "outputs": [
    {
     "data": {
      "image/png": "[encoded data removed]",
      "text/plain": [
       "<Figure size 640x480 with 1 Axes>"
      ]
     },
     "metadata": {},
     "output_type": "display_data"
    }
   ],
   "source": [
    "img = hlp.examples().space\n",
    "shape = img.shape\n",
    "\n",
    "\n",
    "def plot_interactive_rot(i):\n",
    "    ang = i / 300 * 2 * np.pi\n",
    "    example = hlp.examples().space\n",
    "    qc = cFRQI(example, 0)\n",
    "    qc.ry(ang, range(qc.width()))\n",
    "    job = backend.run(qc)\n",
    "    sv = np.real(job.result().get_statevector())\n",
    "    example = hlp.decodeQPIXL(sv)\n",
    "    example = hlp.reconstruct_img(example, shape).T\n",
    "    plt.title(\"RY \" + str(ang)[0:4])\n",
    "    plt.imshow(example)\n",
    "\n",
    "\n",
    "fig = plt.figure()\n",
    "ani = animation.FuncAnimation(fig, plot_interactive_rot, interval=30, frames=300)\n",
    "writergif = animation.PillowWriter(fps=60)\n",
    "ani.save(\"test_gif.gif\", writer=writergif)"
   ]
  },
  {
   "attachments": {},
   "cell_type": "markdown",
   "metadata": {},
   "source": [
    "![SegmentLocal](figures/test_gif.gif \"segment\")"
   ]
  },
  {
   "cell_type": "markdown",
   "metadata": {},
   "source": [
    "How does an image transformation look in an embedding like qpixl? Well, we can interpolate between the angle embeddings of the two images and see! \n",
    "We use two little aliens to illustrate how this would look like."
   ]
  },
  {
   "cell_type": "code",
   "execution_count": null,
   "metadata": {
    "tags": []
   },
   "outputs": [
    {
     "data": {
      "image/png": "[encoded data removed]",
      "text/plain": [
       "<Figure size 640x480 with 1 Axes>"
      ]
     },
     "metadata": {},
     "output_type": "display_data"
    }
   ],
   "source": [
    "alien1 = hlp.examples().space\n",
    "shape1 = alien1.shape\n",
    "alien2 = hlp.examples().invader\n",
    "\n",
    "\n",
    "def plot_interactive_rot(i):\n",
    "    \"\"\"Trivial example of an animation where a new state is generated each time.\n",
    "    It would be more interesting if you did a proper evolution over time and read\n",
    "    the state at each point.\n",
    "\n",
    "    Args:\n",
    "        i (time): frame to render in linear interpolation of equation\n",
    "    \"\"\"\n",
    "    t = 100 * i / 150\n",
    "    example = ((100 - t) / (100 - 1)) * alien1 + ((t - 1) / (100 - 1)) * alien2\n",
    "    qc = cFRQI(example, 0)\n",
    "    job = backend.run(qc)\n",
    "    sv = np.real(job.result().get_statevector())\n",
    "    example = hlp.decodeQPIXL(sv)\n",
    "    example = hlp.reconstruct_img(example, shape1).T\n",
    "    plt.title(\"transformation \" + str(t)[0:4] + \"%\")\n",
    "    plt.imshow(example)\n",
    "\n",
    "\n",
    "fig = plt.figure()\n",
    "ani = animation.FuncAnimation(fig, plot_interactive_rot, interval=30, frames=150)\n",
    "writergif = animation.PillowWriter(fps=45)\n",
    "ani.save(\"transform.gif\", writer=writergif)"
   ]
  },
  {
   "attachments": {},
   "cell_type": "markdown",
   "metadata": {},
   "source": [
    "![SegmentLocal](figures/transform.gif \"segment\")\n"
   ]
  },
  {
   "cell_type": "markdown",
   "metadata": {},
   "source": [
    "# RGB QPXL!\n",
    "You can of course, encode three different channels separately and recombine in post for cool effects, perhaps by rotating the different channels by different angles, we rotate the image by pi/10 for the green channel and pi/5 for the blue channel.\n"
   ]
  },
  {
   "cell_type": "code",
   "execution_count": 15,
   "metadata": {
    "tags": []
   },
   "outputs": [],
   "source": [
    "# READ IMAGE AND SPLIT\n",
    "Image_ghost = Image.open(\"figures/mario_eg.png\")\n",
    "Image_ghost_data = np.asarray(Image_ghost)\n",
    "\n",
    "red_channel = []\n",
    "green_channel = []\n",
    "blue_channel = []\n",
    "\n",
    "for i in range(len(Image_ghost_data)):\n",
    "    for j in range(len(Image_ghost_data[0])):\n",
    "        red_channel.append(Image_ghost_data[i][j][0])\n",
    "\n",
    "for i in range(len(Image_ghost_data)):\n",
    "    for j in range(len(Image_ghost_data[0])):\n",
    "        green_channel.append(Image_ghost_data[i][j][1])\n",
    "\n",
    "for i in range(len(Image_ghost_data)):\n",
    "    for j in range(len(Image_ghost_data[0])):\n",
    "        blue_channel.append(Image_ghost_data[i][j][2])\n",
    "\n",
    "\n",
    "red_channel = np.array(red_channel).reshape(\n",
    "    len(Image_ghost_data), len(Image_ghost_data[0])\n",
    ")\n",
    "green_channel = np.array(green_channel).reshape(\n",
    "    len(Image_ghost_data), len(Image_ghost_data[0])\n",
    ")\n",
    "blue_channel = np.array(blue_channel).reshape(\n",
    "    len(Image_ghost_data), len(Image_ghost_data[0])\n",
    ")\n",
    "chans = [(red_channel), (green_channel), (blue_channel)]"
   ]
  },
  {
   "cell_type": "code",
   "execution_count": 16,
   "metadata": {},
   "outputs": [
    {
     "data": {
      "application/vnd.jupyter.widget-view+json": {
       "model_id": "be2173ec8fc4494dbfe5005b3d865978",
       "version_major": 2,
       "version_minor": 0
      },
      "text/plain": [
       "interactive(children=(FloatSlider(value=3.1, description='ang1', max=6.283185307179586), FloatSlider(value=3.1…"
      ]
     },
     "metadata": {},
     "output_type": "display_data"
    },
    {
     "data": {
      "text/plain": [
       "<function __main__.plot_interactive_rot(ang1, ang2, ang3, compress)>"
      ]
     },
     "execution_count": 16,
     "metadata": {},
     "output_type": "execute_result"
    }
   ],
   "source": [
    "def plot_interactive_rot(ang1, ang2, ang3, compress):\n",
    "    encoded_decoded = []\n",
    "    angs = [ang1, ang2, ang3]\n",
    "    for i, ang in zip(chans, angs):\n",
    "        tempi = hlp.pad_0(i.T.flatten())\n",
    "        maxval = np.max(tempi)\n",
    "        minval = np.min(tempi)\n",
    "        qc = cFRQI(tempi, compress)\n",
    "        qc.ry(ang, range(qc.width()))\n",
    "\n",
    "        job = backend.run(qc)\n",
    "        #### Just for show\n",
    "        sv = np.real(job.result().get_statevector())\n",
    "        img2 = hlp.decodeQPIXL(sv, minval, maxval, scaling=hlp.convertToGrayscaleOld)\n",
    "        encoded_decoded.append(\n",
    "            hlp.reconstruct_img(img2, (len(Image_ghost_data), len(Image_ghost_data[0])))\n",
    "        )\n",
    "\n",
    "    rgb = np.abs(np.dstack(encoded_decoded))\n",
    "    plt.imshow(Image.fromarray(np.array(rgb).astype(np.uint8), \"RGB\"))\n",
    "\n",
    "\n",
    "interact(\n",
    "    plot_interactive_rot,\n",
    "    ang1=(0, 2 * np.pi, 0.1),\n",
    "    ang2=(0, 2 * np.pi, 0.1),\n",
    "    ang3=(0, 2 * np.pi, 0.1),\n",
    "    compress=(0, 100, 5),\n",
    ")"
   ]
  },
  {
   "cell_type": "markdown",
   "metadata": {},
   "source": [
    "# Audio processing\n",
    "Audio must be sliced and processed in chunks to get any appreciably long sample length. As such, one must be careful to mantain minimum and maximum values between the chunks for the reconstruction. An example process is shown in the below cell, which accepts some patterns to interweave with circuit, as you might do in more depth when mixing an algorithm with the data encoding.   "
   ]
  },
  {
   "cell_type": "code",
   "execution_count": 17,
   "metadata": {},
   "outputs": [
    {
     "name": "stdout",
     "output_type": "stream",
     "text": [
      "Processing underground chunk: 3098/3098\r"
     ]
    }
   ],
   "source": [
    "### An example function for processing audio adding some interleaving gates (pattern functions) and some gates after the encoding (post processing function)\n",
    "\n",
    "\n",
    "def process_audio(\n",
    "    input_file,\n",
    "    output_dir,\n",
    "    pattern_func,\n",
    "    pattern2_func,\n",
    "    post_process_func=None,\n",
    "    tag=\"\",\n",
    "    compression=0,\n",
    "):\n",
    "    \"\"\"\n",
    "    Processes an audio file by encoding it into a quantum circuit, applying transformations,\n",
    "    and performing spectral noise reduction.\n",
    "\n",
    "    Args:\n",
    "        input_file (str): Path to the input audio file.\n",
    "        output_dir (str): Directory to save the processed audio files.\n",
    "        pattern_func (function): Function to apply the first pattern to the quantum circuit.\n",
    "        pattern2_func (function): Function to apply the second pattern to the quantum circuit.\n",
    "        post_process_func (function, optional): Function to apply additional processing to the quantum circuit. Defaults to None.\n",
    "        tag (str): Tag to append to the output file names. Defaults to an empty string.\n",
    "        compression (int): Compression level for the quantum circuit encoding. Defaults to 0.\n",
    "\n",
    "    Returns:\n",
    "        None\n",
    "    \"\"\"\n",
    "    # Ensure the output directory exists\n",
    "    os.makedirs(output_dir, exist_ok=True)\n",
    "    file_name, _ = os.path.splitext(os.path.basename(input_file))\n",
    "    metadata_file_path = os.path.join(\n",
    "        output_dir, f\"{file_name}_metadata_{tag}_c{compression}.txt\"\n",
    "    )\n",
    "    if not os.path.exists(metadata_file_path):\n",
    "        # Read the input audio file and split, as it would be too large to process in one go\n",
    "        data, samplerate = soundfile.read(input_file)\n",
    "        chunk_size = 512\n",
    "        sections = [\n",
    "            hlp.pad_0(data[i : i + chunk_size]) for i in range(0, len(data), chunk_size)\n",
    "        ][:-1]\n",
    "        # remove last chunk since it can cause issues due to 0s in padding\n",
    "        decoded = []\n",
    "\n",
    "        # Process each audio chunk\n",
    "        for index, section in enumerate(sections):\n",
    "            print(\n",
    "                f\"Processing {file_name} chunk: {index + 1}/{len(sections)}\", end=\"\\r\"\n",
    "            )\n",
    "            normalized_section = section - np.min(section)\n",
    "            patt1, _ = pattern_func\n",
    "            patt2, _ = pattern2_func\n",
    "            qc = cFRQIangs(normalized_section, compression, patt1, patt2)  #\n",
    "            ### Variant of encoding that has additional code to allow for a\n",
    "            ### pattern to be applied in the algorithm qubits\n",
    "\n",
    "            # Apply post-processing if provided\n",
    "            if post_process_func is not None:\n",
    "                post_process_func(qc)\n",
    "\n",
    "            # Run the quantum circuit and decode the result\n",
    "            job = backend.run(qc)\n",
    "            state_vector = np.real(job.result().get_statevector())\n",
    "            decoded.append(\n",
    "                decodeAngQPIXL(\n",
    "                    state=state_vector,\n",
    "                    qc=qc,\n",
    "                    trace=2,\n",
    "                    max_pixel_val=section.max(),\n",
    "                    min_pixel_val=section.min(),  # Ensures that the audio amplitudes are preserved between chunks\n",
    "                )\n",
    "            )\n",
    "\n",
    "        # Save the processed audio\n",
    "        decoded_full = np.array(list(chain.from_iterable(decoded)))\n",
    "        soundfile.write(\n",
    "            os.path.join(output_dir, f\"{file_name}_output_{tag}_c{compression}.wav\"),\n",
    "            decoded_full,\n",
    "            samplerate,\n",
    "        )\n",
    "\n",
    "\n",
    "def pattern(angle):\n",
    "    \"\"\"Example pattern function that applies a\n",
    "    CRX gate to the quantum circuit in the algortihm register.\n",
    "    Returns a function that takes a circuit and applies the pattern.\n",
    "    \"\"\"\n",
    "\n",
    "    def pattern(circ):\n",
    "        circ.crx(angle, 1, 0)\n",
    "\n",
    "    return pattern, angle\n",
    "\n",
    "\n",
    "def pattern2(angle):\n",
    "    def pattern(circ):\n",
    "        circ.cry(angle, 1, 0)\n",
    "\n",
    "    return pattern, angle\n",
    "\n",
    "\n",
    "def post(qubit):\n",
    "    def post(circ):\n",
    "        circ.h(qubit)\n",
    "\n",
    "    return post\n",
    "\n",
    "\n",
    "wav_files = [f for f in os.listdir(\"Sample_Material\") if f.endswith(\".mp3\")]\n",
    "folder_paths = [\n",
    "    os.path.join(\"Sample_Material\", os.path.splitext(f)[0]) for f in wav_files\n",
    "]\n",
    "for file, path in zip(wav_files, folder_paths):\n",
    "    process_audio(\n",
    "        os.path.join(\"Sample_Material\", file),\n",
    "        path,\n",
    "        pattern(np.pi / 5),\n",
    "        pattern2(np.pi / 10),\n",
    "        post_process_func=post(3),\n",
    "        compression=90,\n",
    "        tag=\"demo\",\n",
    "    )"
   ]
  },
  {
   "cell_type": "code",
   "execution_count": null,
   "metadata": {},
   "outputs": [],
   "source": []
  }
 ],
 "metadata": {
  "kernelspec": {
   "display_name": "Python 3",
   "language": "python",
   "name": "python3"
  },
  "language_info": {
   "codemirror_mode": {
    "name": "ipython",
    "version": 3
   },
   "file_extension": ".py",
   "mimetype": "text/x-python",
   "name": "python",
   "nbconvert_exporter": "python",
   "pygments_lexer": "ipython3",
   "version": "3.11.9"
  }
 },
 "nbformat": 4,
 "nbformat_minor": 4
}
