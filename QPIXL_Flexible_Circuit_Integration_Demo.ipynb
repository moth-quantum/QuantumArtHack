{
 "cells": [
  {
   "cell_type": "markdown",
   "id": "fd9b90a7",
   "metadata": {},
   "source": [
    "# Flexible Quantum Circuit Integration with QPIXL\n",
    "\n",
    "This notebook demonstrates a flexible framework for integrating arbitrary quantum circuits with QPIXL-encoded data circuits. The goal is to provide a modular and extensible way to combine data encoding with quantum algorithms using various strategies like merging, entangling, or slicing circuits.\n",
    "\n",
    "We will showcase the `CircuitIntegrator` and `QPIXLAlgorithmEncoder` classes, along with helper functions and their application in image and audio processing.\n",
    "\n",
    "### Step 1: Notebook Title and Initial Setup (Imports)"
   ]
  },
  {
   "cell_type": "code",
   "execution_count": null,
   "id": "cfe859f7",
   "metadata": {},
   "outputs": [
    {
     "name": "stdout",
     "output_type": "stream",
     "text": [
      "Libraries imported successfully.\n"
     ]
    }
   ],
   "source": [
    "import numpy as np\n",
    "import os\n",
    "from enum import Enum\n",
    "from typing import Callable, Dict, List, Optional, Union, Tuple, Any\n",
    "from itertools import chain\n",
    "\n",
    "import qiskit\n",
    "from qiskit import QuantumCircuit, QuantumRegister\n",
    "from qiskit_aer import StatevectorSimulator\n",
    "import matplotlib.pyplot as plt\n",
    "from matplotlib import animation\n",
    "from PIL import Image\n",
    "from ipywidgets import interact \n",
    "\n",
    "import QPIXL.helper as hlp\n",
    "from QPIXL.qiskit.qpixl import cFRQI\n",
    "from QPIXL.qiskit.qpixl_angs import cFRQIangs, decodeAngQPIXL\n",
    "\n",
    "from QPIXL.qpixl_integrator import (\n",
    "    CircuitIntegrator, \n",
    "    IntegrationMode, \n",
    "    QPIXLAlgorithmEncoder, \n",
    "    create_pattern_function, \n",
    "    create_post_processing\n",
    ")\n",
    "from QPIXL.audio_processor import (\n",
    "    process_audio_with_slices, \n",
    "    create_algorithm_circuit\n",
    ")\n",
    "\n",
    "import warnings\n",
    "import soundfile \n",
    "\n",
    "warnings.filterwarnings(\"ignore\") \n",
    "backend = StatevectorSimulator(method=\"statevector\") \n",
    "\n",
    "print(\"Libraries imported successfully.\")"
   ]
  },
  {
   "cell_type": "markdown",
   "id": "21c0f919",
   "metadata": {},
   "source": [
    "### Step 2: Introduction to QPIXL and Baseline Encoding\n",
    "\n",
    "This step will briefly introduce QPIXL encoding and show a standard image encoding example. This serves as a baseline before we introduce algorithm integration. We'll also define a helper function to run and visualize circuits."
   ]
  },
  {
   "cell_type": "code",
   "execution_count": 2,
   "id": "fb9ffc3f",
   "metadata": {},
   "outputs": [
    {
     "data": {
      "image/png": "[encoded data removed]",
      "text/plain": [
       "<Figure size 300x300 with 1 Axes>"
      ]
     },
     "metadata": {},
     "output_type": "display_data"
    },
    {
     "name": "stdout",
     "output_type": "stream",
     "text": [
      "QPIXL-encoded data circuit (30% compression):\n",
      "- Qubits: 8\n",
      "- Depth: 204\n",
      "\n",
      "Visualizing the baseline QPIXL-encoded image:\n"
     ]
    },
    {
     "data": {
      "image/png": "[encoded data removed]",
      "text/plain": [
       "<Figure size 400x400 with 1 Axes>"
      ]
     },
     "metadata": {},
     "output_type": "display_data"
    }
   ],
   "source": [
    "image_data_raw = hlp.examples().space \n",
    "image_shape = image_data_raw.shape \n",
    "\n",
    "plt.figure(figsize=(3,3))\n",
    "plt.imshow(image_data_raw)\n",
    "plt.title(\"Original Sample Image\")\n",
    "plt.axis('off')\n",
    "plt.show()\n",
    "\n",
    "\n",
    "compression_level = 30\n",
    "data_circuit_qpixl = cFRQI(image_data_raw, compression_level)\n",
    "\n",
    "print(f\"QPIXL-encoded data circuit ({compression_level}% compression):\")\n",
    "print(f\"- Qubits: {data_circuit_qpixl.num_qubits}\")\n",
    "print(f\"- Depth: {data_circuit_qpixl.depth()}\")\n",
    "data_circuit_qpixl.draw(output='mpl', fold=120, scale=0.7) \n",
    "\n",
    "\n",
    "def run_and_show_image(circuit: QuantumCircuit, \n",
    "                       original_shape: Tuple[int, int], \n",
    "                       title: str = \"Decoded Image\",\n",
    "                       ax=None):\n",
    "    \"\"\"Runs a quantum circuit, decodes the QPIXL image, and displays it.\"\"\"\n",
    "    job = backend.run(circuit)\n",
    "    statevector = np.real(job.result().get_statevector())\n",
    "    decoded_image_angles = hlp.decodeQPIXL(statevector) # Using the basic decoder\n",
    "    reconstructed_image = hlp.reconstruct_img(decoded_image_angles, original_shape).T\n",
    "    \n",
    "    if ax is None:\n",
    "        fig, current_ax = plt.subplots(figsize=(4,4))\n",
    "    else:\n",
    "        current_ax = ax\n",
    "        \n",
    "    current_ax.imshow(reconstructed_image)\n",
    "    current_ax.set_title(f\"{title}\\nDepth: {circuit.depth()}, Qubits: {circuit.num_qubits}\")\n",
    "    current_ax.axis('off')\n",
    "    \n",
    "    if ax is None:\n",
    "        plt.show()\n",
    "    return reconstructed_image\n",
    "\n",
    "print(\"\\nVisualizing the baseline QPIXL-encoded image:\")\n",
    "baseline_image = run_and_show_image(data_circuit_qpixl, image_shape, \"Baseline QPIXL Encoding\")"
   ]
  },
  {
   "cell_type": "markdown",
   "id": "bb49e9a9",
   "metadata": {},
   "source": [
    "### Step 3: Define a Sample Algorithm Circuit\n",
    "\n",
    "We need a simple quantum circuit to represent an \"algorithm\" that we want to integrate with our QPIXL-encoded data."
   ]
  },
  {
   "cell_type": "code",
   "execution_count": 3,
   "id": "3199cec2",
   "metadata": {},
   "outputs": [
    {
     "name": "stdout",
     "output_type": "stream",
     "text": [
      "Sample Algorithm Circuit:\n",
      "- Qubits: 3\n",
      "- Depth: 4\n"
     ]
    },
    {
     "data": {
      "image/png": "[encoded data removed]",
      "text/plain": [
       "<Figure size 430.664x227.422 with 1 Axes>"
      ]
     },
     "metadata": {},
     "output_type": "display_data"
    }
   ],
   "source": [
    "algorithm_qubits = 3\n",
    "algorithm_circuit = QuantumCircuit(algorithm_qubits, name=\"Algo\")\n",
    "algorithm_circuit.h(0)\n",
    "algorithm_circuit.cx(0, 1)\n",
    "algorithm_circuit.rx(np.pi/3, 2)\n",
    "algorithm_circuit.barrier()\n",
    "algorithm_circuit.cx(1, 2)\n",
    "algorithm_circuit.rz(np.pi/4, 0)\n",
    "algorithm_circuit.h(range(algorithm_qubits))\n",
    "\n",
    "print(\"Sample Algorithm Circuit:\")\n",
    "print(f\"- Qubits: {algorithm_circuit.num_qubits}\")\n",
    "print(f\"- Depth: {algorithm_circuit.depth()}\")\n",
    "display(algorithm_circuit.draw(output='mpl', scale=0.8))"
   ]
  },
  {
   "cell_type": "markdown",
   "id": "2b7d0c49",
   "metadata": {},
   "source": [
    "### Step 4: Introduce `CircuitIntegrator` - Basic Integration Modes (`MERGE`, `ENTANGLE`)\n",
    "\n",
    "This step will introduce the `CircuitIntegrator` class and demonstrate its basic integration modes: `MERGE` and `ENTANGLE`."
   ]
  },
  {
   "cell_type": "code",
   "execution_count": 4,
   "id": "306763a3",
   "metadata": {},
   "outputs": [
    {
     "name": "stdout",
     "output_type": "stream",
     "text": [
      "--- MERGE Mode ---\n",
      "Merged circuit qubits: 11, depth: 205\n"
     ]
    },
    {
     "data": {
      "image/png": "[encoded data removed]",
      "text/plain": [
       "<Figure size 400x400 with 1 Axes>"
      ]
     },
     "metadata": {},
     "output_type": "display_data"
    },
    {
     "name": "stdout",
     "output_type": "stream",
     "text": [
      "\n",
      "--- ENTANGLE Mode ---\n",
      "Entangled circuit qubits: 11, depth: 205\n"
     ]
    },
    {
     "data": {
      "image/png": "[encoded data removed]",
      "text/plain": [
       "<Figure size 400x400 with 1 Axes>"
      ]
     },
     "metadata": {},
     "output_type": "display_data"
    },
    {
     "name": "stdout",
     "output_type": "stream",
     "text": [
      "\n",
      "Entangled (SWAP) circuit qubits: 11, depth: 205\n"
     ]
    },
    {
     "data": {
      "image/png": "[encoded data removed]",
      "text/plain": [
       "<Figure size 400x400 with 1 Axes>"
      ]
     },
     "metadata": {},
     "output_type": "display_data"
    }
   ],
   "source": [
    "integrator = CircuitIntegrator()\n",
    "\n",
    "print(\"--- MERGE Mode ---\")\n",
    "merged_circuit = integrator.integrate(\n",
    "    data_circuit=data_circuit_qpixl.copy(), \n",
    "    algorithm_circuit=algorithm_circuit.copy(),\n",
    "    mode=IntegrationMode.MERGE,\n",
    "    connection_map={0: 0, 1: 1}, \n",
    "    connection_type='cx' \n",
    ")\n",
    "\n",
    "print(f\"Merged circuit qubits: {merged_circuit.num_qubits}, depth: {merged_circuit.depth()}\")\n",
    "merged_circuit.draw(output='mpl', fold=150, scale=0.7) \n",
    "merged_image = run_and_show_image(merged_circuit, image_shape, \"MERGE Integration\")\n",
    "\n",
    "print(\"\\n--- ENTANGLE Mode ---\")\n",
    "entangled_circuit = integrator.integrate(\n",
    "    data_circuit=data_circuit_qpixl.copy(),\n",
    "    algorithm_circuit=algorithm_circuit.copy(),\n",
    "    mode=IntegrationMode.ENTANGLE,\n",
    "    connection_map={0: 0, 2: 1}, \n",
    "    entangle_type='cz' \n",
    ")\n",
    "\n",
    "print(f\"Entangled circuit qubits: {entangled_circuit.num_qubits}, depth: {entangled_circuit.depth()}\")\n",
    "entangled_circuit.draw(output='mpl', fold=150, scale=0.7) \n",
    "entangled_image = run_and_show_image(entangled_circuit, image_shape, \"ENTANGLE Integration (CZ)\")\n",
    "\n",
    "entangled_swap_circuit = integrator.integrate(\n",
    "    data_circuit=data_circuit_qpixl.copy(),\n",
    "    algorithm_circuit=algorithm_circuit.copy(),\n",
    "    mode=IntegrationMode.ENTANGLE,\n",
    "    connection_map={i: i for i in range(min(data_circuit_qpixl.num_qubits, algorithm_circuit.num_qubits))}, # Connect corresponding qubits\n",
    "    entangle_type='swap'\n",
    ")\n",
    "print(f\"\\nEntangled (SWAP) circuit qubits: {entangled_swap_circuit.num_qubits}, depth: {entangled_swap_circuit.depth()}\")\n",
    "entangled_swap_image = run_and_show_image(entangled_swap_circuit, image_shape, \"ENTANGLE Integration (SWAP)\")"
   ]
  },
  {
   "cell_type": "markdown",
   "id": "7f0d2a3b",
   "metadata": {},
   "source": [
    "### Step 5: `CircuitIntegrator` - `SLICED` Mode\n",
    "\n",
    "The `SLICED` mode is more advanced. It breaks the algorithm circuit into smaller pieces (slices) and interleaves them within the data circuit."
   ]
  },
  {
   "cell_type": "code",
   "execution_count": 5,
   "id": "402cfed7",
   "metadata": {},
   "outputs": [
    {
     "name": "stdout",
     "output_type": "stream",
     "text": [
      "--- SLICED Mode ---\n",
      "Sliced (interval) circuit qubits: 11, depth: 204\n"
     ]
    },
    {
     "data": {
      "image/png": "[encoded data removed]",
      "text/plain": [
       "<Figure size 400x400 with 1 Axes>"
      ]
     },
     "metadata": {},
     "output_type": "display_data"
    },
    {
     "name": "stdout",
     "output_type": "stream",
     "text": [
      "\n",
      "Sliced (end) circuit qubits: 11, depth: 205\n"
     ]
    },
    {
     "data": {
      "image/png": "[encoded data removed]",
      "text/plain": [
       "<Figure size 400x400 with 1 Axes>"
      ]
     },
     "metadata": {},
     "output_type": "display_data"
    }
   ],
   "source": [
    "print(\"--- SLICED Mode ---\")\n",
    "\n",
    "sliced_circuit_interval = integrator.integrate(\n",
    "    data_circuit=data_circuit_qpixl.copy(),\n",
    "    algorithm_circuit=algorithm_circuit.copy(),\n",
    "    mode=IntegrationMode.SLICED,\n",
    "    slice_size=1,  \n",
    "    connection_map={0:0, 1:1}, \n",
    "    insertion_rule='interval', \n",
    "    interval=15, \n",
    "    connection_type_within_slice='cx' \n",
    ")\n",
    "\n",
    "print(f\"Sliced (interval) circuit qubits: {sliced_circuit_interval.num_qubits}, depth: {sliced_circuit_interval.depth()}\")\n",
    "sliced_circuit_interval.draw(output='mpl', fold=180, scale=0.6) \n",
    "sliced_interval_image = run_and_show_image(sliced_circuit_interval, image_shape, \"SLICED Integration (Interval)\")\n",
    "\n",
    "sliced_circuit_end = integrator.integrate(\n",
    "    data_circuit=data_circuit_qpixl.copy(),\n",
    "    algorithm_circuit=algorithm_circuit.copy(),\n",
    "    mode=IntegrationMode.SLICED,\n",
    "    slice_size=2,\n",
    "    connection_map={0:0},\n",
    "    insertion_rule='end',\n",
    "    connection_type_within_slice='cz'\n",
    ")\n",
    "print(f\"\\nSliced (end) circuit qubits: {sliced_circuit_end.num_qubits}, depth: {sliced_circuit_end.depth()}\")\n",
    "sliced_end_image = run_and_show_image(sliced_circuit_end, image_shape, \"SLICED Integration (End)\")"
   ]
  },
  {
   "cell_type": "markdown",
   "id": "0f9843bf",
   "metadata": {},
   "source": [
    "### Step 6: `CircuitIntegrator` - `CUSTOM` Mode\n",
    "\n",
    "The `CUSTOM` mode offers maximum flexibility by allowing you to define your own Python function to perform the integration"
   ]
  },
  {
   "cell_type": "code",
   "execution_count": 6,
   "id": "7cae2089",
   "metadata": {},
   "outputs": [
    {
     "name": "stdout",
     "output_type": "stream",
     "text": [
      "--- CUSTOM Mode ---\n",
      "Custom integrated circuit qubits: 11, depth: 206\n"
     ]
    },
    {
     "data": {
      "image/png": "[encoded data removed]",
      "text/plain": [
       "<Figure size 400x400 with 1 Axes>"
      ]
     },
     "metadata": {},
     "output_type": "display_data"
    }
   ],
   "source": [
    "print(\"--- CUSTOM Mode ---\")\n",
    "\n",
    "def my_custom_integration_rule(data_circ: QuantumCircuit, \n",
    "                               algo_circ: QuantumCircuit, \n",
    "                               **kwargs) -> QuantumCircuit:\n",
    "    \"\"\"\n",
    "    A custom rule that composes data and algorithm circuits,\n",
    "    then applies a layer of Hadamard gates to all algorithm qubits,\n",
    "    and finally adds a CNOT between a specified data qubit and algorithm qubit.\n",
    "    \"\"\"\n",
    "    num_data_qubits = data_circ.num_qubits\n",
    "    num_algo_qubits = algo_circ.num_qubits\n",
    "    \n",
    "    combined_circuit = QuantumCircuit(num_data_qubits + num_algo_qubits, name=\"CustomIntegrated\")\n",
    "    \n",
    "    combined_circuit.compose(data_circ, qubits=range(num_data_qubits), inplace=True)\n",
    "    \n",
    "    algo_qubit_indices = list(range(num_data_qubits, num_data_qubits + num_algo_qubits))\n",
    "    combined_circuit.compose(algo_circ, qubits=algo_qubit_indices, inplace=True)\n",
    "    \n",
    "    combined_circuit.barrier()\n",
    "    for q_idx in algo_qubit_indices:\n",
    "        combined_circuit.h(q_idx)\n",
    "    combined_circuit.barrier()\n",
    "        \n",
    "    data_control_qubit = kwargs.get('data_control', 0)\n",
    "    algo_target_qubit_offset = kwargs.get('algo_target', 0)\n",
    "    \n",
    "    if data_control_qubit < num_data_qubits and algo_target_qubit_offset < num_algo_qubits:\n",
    "        actual_algo_target = num_data_qubits + algo_target_qubit_offset\n",
    "        combined_circuit.cx(data_control_qubit, actual_algo_target)\n",
    "        \n",
    "    return combined_circuit\n",
    "\n",
    "custom_integrated_circuit = integrator.integrate(\n",
    "    data_circuit=data_circuit_qpixl.copy(),\n",
    "    algorithm_circuit=algorithm_circuit.copy(),\n",
    "    mode=IntegrationMode.CUSTOM,\n",
    "    custom_rule=my_custom_integration_rule,\n",
    "    data_control=1, \n",
    "    algo_target=0 \n",
    ")\n",
    "\n",
    "print(f\"Custom integrated circuit qubits: {custom_integrated_circuit.num_qubits}, depth: {custom_integrated_circuit.depth()}\")\n",
    "custom_integrated_circuit.draw(output='mpl', fold=150, scale=0.7) \n",
    "custom_image = run_and_show_image(custom_integrated_circuit, image_shape, \"CUSTOM Integration\")"
   ]
  },
  {
   "cell_type": "markdown",
   "id": "b3b2d041",
   "metadata": {},
   "source": [
    "### Step 7: Introduce `QPIXLAlgorithmEncoder` - Direct Algorithm Integration\n",
    "\n",
    "The `QPIXLAlgorithmEncoder` class allows for integrating algorithm operations directly during the QPIXL encoding process. This is different from the `CircuitIntegrator` which combines already existing circuits."
   ]
  },
  {
   "cell_type": "code",
   "execution_count": 7,
   "id": "964a6172",
   "metadata": {},
   "outputs": [
    {
     "name": "stdout",
     "output_type": "stream",
     "text": [
      "--- QPIXLAlgorithmEncoder: create_circuit ---\n",
      "Directly integrated circuit qubits: 4, depth: 9\n"
     ]
    },
    {
     "data": {
      "image/png": "[encoded data removed]",
      "text/plain": [
       "<Figure size 780.588x294.311 with 1 Axes>"
      ]
     },
     "metadata": {},
     "output_type": "display_data"
    },
    {
     "name": "stdout",
     "output_type": "stream",
     "text": [
      "\n",
      "Directly integrated image circuit qubits: 9, depth: 205\n"
     ]
    },
    {
     "data": {
      "image/png": "[encoded data removed]",
      "text/plain": [
       "<Figure size 400x400 with 1 Axes>"
      ]
     },
     "metadata": {},
     "output_type": "display_data"
    }
   ],
   "source": [
    "encoder = QPIXLAlgorithmEncoder()\n",
    "\n",
    "algorithm_ops_config = [\n",
    "    {'gate': 'unitary', 'params': {'label_prefix': 'custom_U'}}, \n",
    "    {'gate': 'cry', 'params': {}}  \n",
    "]\n",
    "\n",
    "simple_data_array = np.array([0.1, 0.5, 1.0, 1.5]) \n",
    "num_algorithm_qubits_for_encoder = 1 \n",
    "\n",
    "print(\"--- QPIXLAlgorithmEncoder: create_circuit ---\")\n",
    "direct_integration_circuit = encoder.create_circuit(\n",
    "    data=simple_data_array,\n",
    "    compression=0, \n",
    "    algorithm_ops=algorithm_ops_config,\n",
    "    algorithm_qubits=num_algorithm_qubits_for_encoder\n",
    ")\n",
    "\n",
    "print(f\"Directly integrated circuit qubits: {direct_integration_circuit.num_qubits}, depth: {direct_integration_circuit.depth()}\")\n",
    "display(direct_integration_circuit.draw(output='mpl', fold=100, scale=0.8))\n",
    "\n",
    "\n",
    "small_image_data = hlp.examples().space[:16, :16] \n",
    "small_image_shape = small_image_data.shape\n",
    "\n",
    "direct_integration_image_circuit = encoder.create_circuit(\n",
    "    data=small_image_data, \n",
    "    compression=compression_level,\n",
    "    algorithm_ops=algorithm_ops_config,\n",
    "    algorithm_qubits=num_algorithm_qubits_for_encoder\n",
    ")\n",
    "\n",
    "print(f\"\\nDirectly integrated image circuit qubits: {direct_integration_image_circuit.num_qubits}, depth: {direct_integration_image_circuit.depth()}\")\n",
    "direct_integration_image = run_and_show_image(direct_integration_image_circuit, small_image_shape, \"Direct Encoder Integration\")"
   ]
  },
  {
   "cell_type": "markdown",
   "id": "3c530b74",
   "metadata": {},
   "source": [
    "### Step 8: `QPIXLAlgorithmEncoder` - `create_sliced_circuit` Method\n",
    "\n",
    "This method of the `QPIXLAlgorithmEncoder` is specifically designed to integrate an existing algorithm circuit by slicing it and interleaving it during the QPIXL encoding of data."
   ]
  },
  {
   "cell_type": "code",
   "execution_count": 8,
   "id": "8028ae3e",
   "metadata": {},
   "outputs": [
    {
     "name": "stdout",
     "output_type": "stream",
     "text": [
      "--- QPIXLAlgorithmEncoder: create_sliced_circuit ---\n",
      "Encoder-sliced circuit qubits: 11, depth: 211\n"
     ]
    },
    {
     "data": {
      "image/png": "[encoded data removed]",
      "text/plain": [
       "<Figure size 400x400 with 1 Axes>"
      ]
     },
     "metadata": {},
     "output_type": "display_data"
    }
   ],
   "source": [
    "print(\"--- QPIXLAlgorithmEncoder: create_sliced_circuit ---\")\n",
    "\n",
    "if algorithm_circuit.num_qubits != 3: \n",
    "    algorithm_circuit_for_slicing = QuantumCircuit(3, name=\"AlgoSlice\")\n",
    "    algorithm_circuit_for_slicing.h(0)\n",
    "    algorithm_circuit_for_slicing.cx(0,1)\n",
    "    algorithm_circuit_for_slicing.rz(np.pi/2, 2)\n",
    "else:\n",
    "    algorithm_circuit_for_slicing = algorithm_circuit.copy()\n",
    "\n",
    "\n",
    "encoder_sliced_circuit = encoder.create_sliced_circuit(\n",
    "    data=image_data_raw, \n",
    "    algorithm_circuit=algorithm_circuit_for_slicing,\n",
    "    compression=compression_level,\n",
    "    slice_size=1,  \n",
    "    insertion_rule='interval',\n",
    "    interval=20,   \n",
    "    connection_rule='cx', \n",
    "    connection_map = {0:0}, \n",
    "    algorithm_qubits=algorithm_circuit_for_slicing.num_qubits \n",
    ")\n",
    "\n",
    "print(f\"Encoder-sliced circuit qubits: {encoder_sliced_circuit.num_qubits}, depth: {encoder_sliced_circuit.depth()}\")\n",
    "encoder_sliced_circuit.draw(output='mpl', fold=200, scale=0.5) \n",
    "encoder_sliced_image = run_and_show_image(encoder_sliced_circuit, image_shape, \"Encoder Sliced Integration\")"
   ]
  },
  {
   "cell_type": "markdown",
   "id": "1f2098bd",
   "metadata": {},
   "source": [
    "### Step 9: Helper Functions - `create_pattern_function` and `create_post_processing`\n",
    "\n",
    "These utility functions help define reusable patterns or sequences of gates that can be incorporated into the encoding process."
   ]
  },
  {
   "cell_type": "code",
   "execution_count": 11,
   "id": "e7812055",
   "metadata": {},
   "outputs": [
    {
     "name": "stdout",
     "output_type": "stream",
     "text": [
      "--- Helper: create_pattern_function ---\n",
      "Dummy circuit with CRX pattern:\n"
     ]
    },
    {
     "data": {
      "image/png": "[encoded data removed]",
      "text/plain": [
       "<Figure size 203.683x200.667 with 1 Axes>"
      ]
     },
     "metadata": {},
     "output_type": "display_data"
    },
    {
     "name": "stdout",
     "output_type": "stream",
     "text": [
      "\n",
      "--- Helper: create_post_processing ---\n",
      "Encoder circuit with post-processing qubits: 10, depth: 205\n"
     ]
    },
    {
     "data": {
      "image/png": "[encoded data removed]",
      "text/plain": [
       "<Figure size 400x400 with 1 Axes>"
      ]
     },
     "metadata": {},
     "output_type": "display_data"
    }
   ],
   "source": [
    "print(\"--- Helper: create_pattern_function ---\")\n",
    "\n",
    "crx_pattern_func, crx_angle = create_pattern_function(\n",
    "    gate_name='crx', \n",
    "    angle=np.pi/4, \n",
    "    control=0, \n",
    "    target=1   \n",
    ")\n",
    "dummy_qc_pattern = QuantumCircuit(2)\n",
    "crx_pattern_func(dummy_qc_pattern) \n",
    "print(\"Dummy circuit with CRX pattern:\")\n",
    "display(dummy_qc_pattern.draw(output='mpl'))\n",
    "\n",
    "\n",
    "print(\"\\n--- Helper: create_post_processing ---\")\n",
    "post_processing_ops_config = [\n",
    "    {'gate': 'h', 'qubits': [0]}, \n",
    "    {'gate': 'rx', 'qubits': [1], 'params': {'angle': np.pi/6}} \n",
    "]\n",
    "\n",
    "\n",
    "post_processing_callable = create_post_processing(post_processing_ops_config)\n",
    "\n",
    "def get_max_qubit_index_from_op_list(op_list: List[Dict]) -> int:\n",
    "    \"\"\"\n",
    "    Calculates the maximum qubit index referenced in a list of operations.\n",
    "    Each operation is a dict and should have a 'qubits' key (a list of ints).\n",
    "    \"\"\"\n",
    "    max_idx = -1\n",
    "    if not op_list:\n",
    "        return 0 \n",
    "    for op in op_list:\n",
    "        if 'qubits' in op and op['qubits']:\n",
    "            current_max = max(op['qubits'])\n",
    "            if current_max > max_idx:\n",
    "                max_idx = current_max\n",
    "    return max_idx\n",
    "\n",
    "if post_processing_ops_config:\n",
    "    max_qubit_idx_post_proc = get_max_qubit_index_from_op_list(post_processing_ops_config)\n",
    "    num_algo_qubits_for_post_proc = max_qubit_idx_post_proc + 1\n",
    "else:\n",
    "    num_algo_qubits_for_post_proc = 1 \n",
    "\n",
    "\n",
    "encoder_with_post_proc_circuit = encoder.create_circuit(\n",
    "    data=small_image_data, \n",
    "    compression=compression_level,\n",
    "    algorithm_ops=[], \n",
    "    algorithm_qubits=num_algo_qubits_for_post_proc,\n",
    "    post_processing=post_processing_callable \n",
    ")\n",
    "\n",
    "print(f\"Encoder circuit with post-processing qubits: {encoder_with_post_proc_circuit.num_qubits}, depth: {encoder_with_post_proc_circuit.depth()}\")\n",
    "encoder_with_post_proc_circuit.draw(output='mpl', fold=150, scale=0.7) \n",
    "post_proc_image = run_and_show_image(encoder_with_post_proc_circuit, small_image_shape, \"Encoder with Post-Processing\")\n"
   ]
  },
  {
   "cell_type": "markdown",
   "id": "4eb5a1b0",
   "metadata": {},
   "source": [
    "### Step 10: Application - Visual Effects on Images\n",
    "\n",
    "This step will demonstrate how to use the `CircuitIntegrator` (particularly `CUSTOM` or `ENTANGLE` modes) to create visual effects by combining QPIXL circuits of two different images."
   ]
  },
  {
   "cell_type": "code",
   "execution_count": null,
   "id": "c3716bc1",
   "metadata": {},
   "outputs": [
    {
     "name": "stdout",
     "output_type": "stream",
     "text": [
      "--- Visual Effects Demo ---\n"
     ]
    },
    {
     "data": {
      "application/vnd.jupyter.widget-view+json": {
       "model_id": "4d6369539b75462d80b24d2f53ac7785",
       "version_major": 2,
       "version_minor": 0
      },
      "text/plain": [
       "interactive(children=(FloatSlider(value=0.7853981633974483, description='angle_param', max=6.283185307179586),…"
      ]
     },
     "metadata": {},
     "output_type": "display_data"
    }
   ],
   "source": [
    "img1_raw = hlp.examples().invader\n",
    "shape1 = img1_raw.shape\n",
    "img2_raw = hlp.examples().space \n",
    "shape2 = img2_raw.shape \n",
    "\n",
    "print(\"--- Visual Effects Demo ---\")\n",
    "\n",
    "def interactive_image_integration(angle_param:float=np.pi/4, \n",
    "                                  gate_type:str=\"CRX\", \n",
    "                                  compression1:int=30, \n",
    "                                  compression2:int=30,\n",
    "                                  num_connecting_qubits:int=4):\n",
    "    \n",
    "    qpixl_circuit1 = cFRQI(img1_raw.copy(), compression1)\n",
    "    qpixl_circuit2 = cFRQI(img2_raw.copy(), compression2)\n",
    "\n",
    "\n",
    "    num_address_qubits1 = qpixl_circuit1.num_qubits - 1 \n",
    "    num_address_qubits2 = qpixl_circuit2.num_qubits - 1\n",
    "    \n",
    "    connect_limit = min(num_address_qubits1, num_address_qubits2, num_connecting_qubits)\n",
    "\n",
    "    if connect_limit <= 0:\n",
    "        print(\"Cannot connect qubits, check compression or num_connecting_qubits.\")\n",
    "        run_and_show_image(qpixl_circuit1, shape1, f\"Original Image 1 (No Connection)\")\n",
    "        return\n",
    "\n",
    "    integrator_imgs = CircuitIntegrator()\n",
    "    integrated_img_qc = None\n",
    "\n",
    "    if gate_type == \"CRX\" or gate_type == \"CRY\":\n",
    "        def custom_rot_rule(data_circ1, data_circ2, **kwargs):\n",
    "            g_type = kwargs.get('gate', 'crx')\n",
    "            ang = kwargs.get('angle', 0)\n",
    "            limit = kwargs.get('limit', 1)\n",
    "            \n",
    "            combined_qc = QuantumCircuit(data_circ1.num_qubits + data_circ2.num_qubits)\n",
    "            combined_qc.compose(data_circ1, qubits=range(data_circ1.num_qubits), inplace=True)\n",
    "            combined_qc.compose(data_circ2, qubits=range(data_circ1.num_qubits, combined_qc.num_qubits), inplace=True)\n",
    "            \n",
    "            combined_qc.barrier()\n",
    "            for i in range(limit): \n",
    "                q_control = i \n",
    "                q_target = data_circ1.num_qubits + i \n",
    "                if g_type == 'crx':\n",
    "                    combined_qc.crx(ang, q_control, q_target)\n",
    "                elif g_type == 'cry':\n",
    "                    combined_qc.cry(ang, q_control, q_target)\n",
    "            combined_qc.barrier()\n",
    "            return combined_qc\n",
    "        \n",
    "        integrated_img_qc = integrator_imgs.integrate(\n",
    "            qpixl_circuit1, qpixl_circuit2,\n",
    "            mode=IntegrationMode.CUSTOM,\n",
    "            custom_rule=custom_rot_rule,\n",
    "            gate=gate_type.lower(),\n",
    "            angle=angle_param,\n",
    "            limit=connect_limit\n",
    "        )\n",
    "    elif gate_type == \"SWAP\":\n",
    "        connection_map_swap = {i: i for i in range(connect_limit)}\n",
    "        integrated_img_qc = integrator_imgs.integrate(\n",
    "            qpixl_circuit1, qpixl_circuit2,\n",
    "            mode=IntegrationMode.ENTANGLE,\n",
    "            connection_map=connection_map_swap,\n",
    "            entangle_type='swap'\n",
    "        )\n",
    "    elif gate_type == \"CX\":\n",
    "        connection_map_cx = {i: i for i in range(connect_limit)}\n",
    "        integrated_img_qc = integrator_imgs.integrate(\n",
    "            qpixl_circuit1, qpixl_circuit2,\n",
    "            mode=IntegrationMode.ENTANGLE,\n",
    "            connection_map=connection_map_cx,\n",
    "            entangle_type='cx' \n",
    "        )\n",
    "    else:\n",
    "        print(f\"Gate type {gate_type} not recognized for this demo. Showing original image 1.\")\n",
    "        run_and_show_image(qpixl_circuit1, shape1, f\"Original Image 1 (Unrecognized Gate)\")\n",
    "        return\n",
    "\n",
    "    print(f\"Integrated with {gate_type}, angle: {angle_param if 'CR' in gate_type else 'N/A'}, connections: {connect_limit}\")\n",
    "    run_and_show_image(integrated_img_qc, shape1, f\"Visual Effect: {gate_type}\")\n",
    "\n",
    "interact(\n",
    "    interactive_image_integration,\n",
    "    angle_param=(0, 2 * np.pi, 0.1),\n",
    "    gate_type=[\"CRX\", \"CRY\", \"SWAP\", \"CX\"],\n",
    "    compression1=(0, 95, 5),\n",
    "    compression2=(0, 95, 5),\n",
    "    num_connecting_qubits=(1, min(hlp.ilog2(img1_raw.size), hlp.ilog2(img2_raw.size)) -1 , 1) # Max based on smaller image dimension\n",
    ");"
   ]
  },
  {
   "cell_type": "code",
   "execution_count": 15,
   "id": "4c202448",
   "metadata": {},
   "outputs": [
    {
     "name": "stdout",
     "output_type": "stream",
     "text": [
      "--- Creating Algorithm Circuits for Audio ---\n",
      "Sample QFT Algorithm Circuit (for audio):\n"
     ]
    },
    {
     "data": {
      "image/png": "[encoded data removed]",
      "text/plain": [
       "<Figure size 454.517x200.667 with 1 Axes>"
      ]
     },
     "metadata": {},
     "output_type": "display_data"
    },
    {
     "name": "stdout",
     "output_type": "stream",
     "text": [
      "\n",
      "Sample Custom Algorithm Circuit (for audio):\n"
     ]
    },
    {
     "data": {
      "image/png": "[encoded data removed]",
      "text/plain": [
       "<Figure size 370.906x200.667 with 1 Axes>"
      ]
     },
     "metadata": {},
     "output_type": "display_data"
    },
    {
     "name": "stdout",
     "output_type": "stream",
     "text": [
      "\n",
      "--- Demonstrating `process_audio_with_slices` ---\n",
      "The following shows how to call `process_audio_with_slices`.\n",
      "\n",
      "Attempting to process: Sample_Material/underground.mp3\n",
      "Output will be in: Sample_Material/underground\n",
      "Audio processing finished for QFT. Check Sample_Material/underground\n",
      "Audio processing finished for Custom Algo. Check Sample_Material/underground\n"
     ]
    }
   ],
   "source": [
    "print(\"--- Creating Algorithm Circuits for Audio ---\")\n",
    "qft_algorithm_audio = create_algorithm_circuit(\n",
    "    circuit_type='qft', \n",
    "    num_qubits=2 \n",
    ")\n",
    "print(\"Sample QFT Algorithm Circuit (for audio):\")\n",
    "display(qft_algorithm_audio.draw(output='mpl'))\n",
    "\n",
    "custom_algo_audio = QuantumCircuit(2, name=\"CustomAudioAlgo\")\n",
    "custom_algo_audio.h(0)\n",
    "custom_algo_audio.cz(0,1)\n",
    "custom_algo_audio.rx(np.pi/5, 0)\n",
    "custom_algo_audio.ry(np.pi/3, 1)\n",
    "print(\"\\nSample Custom Algorithm Circuit (for audio):\")\n",
    "display(custom_algo_audio.draw(output='mpl'))\n",
    "\n",
    "\n",
    "print(\"\\n--- Demonstrating `process_audio_with_slices` ---\")\n",
    "print(\"The following shows how to call `process_audio_with_slices`.\")\n",
    "\n",
    "example_input_audio_file = \"Sample_Material/underground.mp3\"\n",
    "example_output_directory = \"Sample_Material/underground\"\n",
    "\n",
    "os.makedirs(example_output_directory, exist_ok=True)\n",
    "\n",
    "\n",
    "audio_connection_map = {0: 0, 1: 1} \n",
    "\n",
    "print(f\"\\nAttempting to process: {example_input_audio_file}\")\n",
    "print(f\"Output will be in: {example_output_directory}\")\n",
    "\n",
    "if os.path.exists(example_input_audio_file):\n",
    "    try:\n",
    "        process_audio_with_slices(\n",
    "            input_file=example_input_audio_file,\n",
    "            output_dir=example_output_directory,\n",
    "            algorithm_circuit=qft_algorithm_audio, \n",
    "            slice_size=1,                           \n",
    "            insertion_rule='interval',              \n",
    "            interval=10,                           \n",
    "            connection_rule='cx',                   \n",
    "            connection_map=audio_connection_map,\n",
    "            compression=10,                         \n",
    "            tag=\"qft_integrated_demo\"               \n",
    "        )\n",
    "        print(f\"Audio processing finished for QFT. Check {example_output_directory}\")\n",
    "\n",
    "        process_audio_with_slices(\n",
    "            input_file=example_input_audio_file,\n",
    "            output_dir=example_output_directory,\n",
    "            algorithm_circuit=custom_algo_audio, \n",
    "            slice_size=1,\n",
    "            insertion_rule='interval',\n",
    "            interval=8,\n",
    "            connection_rule='cz',\n",
    "            connection_map=audio_connection_map,\n",
    "            compression=10,\n",
    "            tag=\"custom_algo_integrated_demo\"\n",
    "        )\n",
    "        print(f\"Audio processing finished for Custom Algo. Check {example_output_directory}\")\n",
    "\n",
    "    except Exception as e:\n",
    "        print(f\"An error occurred during audio processing: {e}\")\n",
    "        print(\"Please ensure 'ffmpeg' is installed and accessible in your system PATH if not using wav.\")\n",
    "        print(\"Also, verify the input audio file format and integrity.\")\n",
    "else:\n",
    "    print(f\"\\nSkipping audio processing example as '{example_input_audio_file}' not found.\")\n",
    "    print(\"Please set 'example_input_audio_file' to a valid audio file path to run this.\")\n",
    "\n"
   ]
  },
  {
   "cell_type": "markdown",
   "id": "c6423ddf",
   "metadata": {},
   "source": [
    "\n",
    "## Summary of Demonstrated Capabilities\n",
    "\n",
    "This notebook has demonstrated a flexible framework for integrating quantum algorithms\n",
    "with QPIXL-encoded data (images and audio). Key components and functionalities showcased include:\n",
    "\n",
    "1.  **`CircuitIntegrator` Class:**\n",
    "    *   **`MERGE` Mode:** Combining data and algorithm circuits side-by-side with optional connections.\n",
    "    *   **`ENTANGLE` Mode:** Connecting circuits using specified entangling operations (e.g., CX, CZ, SWAP).\n",
    "    *   **`SLICED` Mode:** Breaking an algorithm circuit into smaller slices and interleaving them within a data circuit based on rules like 'interval' or 'end'.\n",
    "    *   **`CUSTOM` Mode:** Allowing users to define their own Python functions for bespoke integration logic, offering maximum flexibility.\n",
    "\n",
    "2.  **`QPIXLAlgorithmEncoder` Class:**\n",
    "    *   **`create_circuit` Method:** Directly embedding algorithm operations (defined via `algorithm_ops`) into the QPIXL encoding process on a per-data-point basis. It also supports `post_processing` steps.\n",
    "    *   **`create_sliced_circuit` Method:** Integrating an existing algorithm circuit by slicing it and interleaving these slices during the QPIXL encoding of data, with specified connection rules.\n",
    "\n",
    "3.  **Helper Functions:**\n",
    "    *   `create_pattern_function`: For defining reusable circuit patterns (often used with older functions like `cFRQIangs` or as components in custom rules).\n",
    "    *   `create_post_processing`: For defining a sequence of operations to be applied after the main encoding and integration.\n",
    "    *   `create_algorithm_circuit`: For easily generating standard algorithm circuits (e.g., QFT, QAOA) for use in integration.\n",
    "\n",
    "4.  **Applications:**\n",
    "    *   **Image Processing:** Demonstrated interactive visual effects by combining QPIXL encodings of two images using various integration strategies.\n",
    "    *   **Audio Processing:** Showcased how `process_audio_with_slices` can be used to integrate sliced algorithm circuits into the QPIXL encoding of audio chunks, enabling quantum-enhanced audio manipulation.\n",
    "\n",
    "## Benefits of this Framework\n",
    "\n",
    "*   **Modularity:** Separates data encoding logic from algorithm logic and integration strategy.\n",
    "*   **Extensibility:** Easily add new integration rules or algorithm components.\n",
    "*   **Flexibility:** Supports various ways to combine circuits, from simple appending to complex interleaving.\n",
    "*   **Experimentation:** Facilitates rapid prototyping and testing of different quantum data processing pipelines.\n",
    "*   **Clarity:** Provides a structured approach to building complex quantum circuits for data-driven tasks.\n",
    "\n",
    "## Future Directions\n",
    "\n",
    "This framework can be extended further by:\n",
    "*   Adding more predefined integration modes or algorithm components.\n",
    "*   Integrating with quantum machine learning libraries.\n",
    "*   Optimizing circuit compositions for specific hardware backends.\n",
    "*   Developing more sophisticated rules for slicing and insertion based on circuit properties."
   ]
  }
 ],
 "metadata": {
  "kernelspec": {
   "display_name": "Python 3",
   "language": "python",
   "name": "python3"
  },
  "language_info": {
   "codemirror_mode": {
    "name": "ipython",
    "version": 3
   },
   "file_extension": ".py",
   "mimetype": "text/x-python",
   "name": "python",
   "nbconvert_exporter": "python",
   "pygments_lexer": "ipython3",
   "version": "3.11.9"
  }
 },
 "nbformat": 4,
 "nbformat_minor": 5
}
